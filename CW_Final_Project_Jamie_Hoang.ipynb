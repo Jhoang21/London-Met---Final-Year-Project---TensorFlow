{
  "nbformat": 4,
  "nbformat_minor": 0,
  "metadata": {
    "colab": {
      "provenance": [],
      "include_colab_link": true
    },
    "kernelspec": {
      "name": "python3",
      "display_name": "Python 3"
    },
    "language_info": {
      "name": "python"
    },
    "accelerator": "GPU"
  },
  "cells": [
    {
      "cell_type": "markdown",
      "metadata": {
        "id": "view-in-github",
        "colab_type": "text"
      },
      "source": [
        "<a href=\"https://colab.research.google.com/github/Jhoang21/London-Met---Final-Year-Project---TensorFlow/blob/main/CW_Final_Project_Jamie_Hoang.ipynb\" target=\"_parent\"><img src=\"https://colab.research.google.com/assets/colab-badge.svg\" alt=\"Open In Colab\"/></a>"
      ]
    },
    {
      "cell_type": "markdown",
      "source": [
        "----------------------------------\n",
        "----------------------------------\n",
        "\n",
        "#  ***Welcome Section / Read Me!***\n",
        "\n",
        "----------------------------------\n",
        "----------------------------------\n",
        "\n",
        "This program is authored by Jamie Hoang. \n",
        "\n",
        "-\n",
        "\n",
        "Intended for use by the said student and London Metropolian University. The purpose of this program is to be a Machine Learning Algorithm to detect steganography within files. \n",
        "\n",
        "-\n",
        "\n",
        "This program is intended to be ran in code blocks starting from the top, working towards the bottom. Code can be ran via pressing on the corresponding play button next to each code block as seen in the image below.\n",
        "\n",
        "![Capture.PNG](data:image/png;base64,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)\n",
        "\n",
        "-\n",
        "\n",
        "Each code blocks are further divided in configuable elements. Which are seperated via distinct code comments. As shown below.\n",
        "\n",
        "![playbutton.PNG](data:image/png;base64,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)\n",
        "\n",
        "Any variables above the commented line can be modified which can alter the configuarion and operation of the program. Every code block will have an text block above it which will detail how this variable can be configured. An example of this can be seen below.\n",
        "\n",
        "```\n",
        "# [url] - This variable will be where the program attempts to download the sample data. \n",
        "\n",
        "- The link provided must be an http link, which must lead to an direct download. \n",
        "```\n",
        "\n",
        "Lastly, the output of any specfic code block can be viewed under it's respective code block. As seen in the image below.\n",
        "\n",
        "![playbutton.PNG](data:image/png;base64,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)\n"
      ],
      "metadata": {
        "id": "Y3z0yLYqvNTI"
      }
    },
    {
      "cell_type": "markdown",
      "source": [
        "\n",
        "\n",
        "---\n",
        "\n",
        "# ---Start of the program ---\n",
        "\n",
        "\n",
        "---\n",
        "\n"
      ],
      "metadata": {
        "id": "j576h3a3F7L6"
      }
    },
    {
      "cell_type": "markdown",
      "source": [
        "\n",
        "\n",
        "---------- █ ***Library Imports*** █ ----------\n",
        "\n",
        "This section simply imports the needed Python Libraries needed for the program."
      ],
      "metadata": {
        "id": "wvzuofvCz6jC"
      }
    },
    {
      "cell_type": "code",
      "metadata": {
        "id": "KaNEoRcdpvCi"
      },
      "source": [
        "import os\n",
        "import tensorflow as tf\n",
        "\n",
        "from tensorflow.keras import layers\n",
        "from tensorflow.keras import losses"
      ],
      "execution_count": null,
      "outputs": []
    },
    {
      "cell_type": "markdown",
      "metadata": {
        "id": "kSUkH2EcxaTy"
      },
      "source": [
        "\n",
        "---------- █ ***Pulling the data.*** █ ----------\n",
        "\n",
        "This is where the Sample Data can be downloaded from a file hosting service. \n",
        "\n",
        "***Note: The user can skip executing this code block, if they had uploaded their sample data personally.***\n",
        "\n",
        "```\n",
        "- Configurable Elements -\n",
        "\n",
        "# [url] - This variable will be where the program attempts to download the sample data. \n",
        "   - The link provided must be an http link, which must lead to an direct download. \n",
        "```"
      ]
    },
    {
      "cell_type": "code",
      "metadata": {
        "id": "J1Ugm6-apwxk",
        "colab": {
          "base_uri": "https://localhost:8080/"
        },
        "outputId": "130eb6cc-2812-4d3c-c329-59f77239eb8b"
      },
      "source": [
        "url = \"https://www.mediafire.com/file/qlp0n7z6h8xqlev/JH_data.gz/file\"\n",
        "\n",
        "# ---- # ---- # \n",
        "# Code Section Below - DO NOT EDIT\n",
        "\n",
        "full_dataset = tf.keras.utils.get_file(\"JH_data\", url , untar=True, cache_dir='.', cache_subdir='')\n",
        "\n",
        "full_dataset_dir = os.path.join(os.path.dirname(full_dataset), 'JH_data')"
      ],
      "execution_count": null,
      "outputs": [
        {
          "output_type": "stream",
          "name": "stdout",
          "text": [
            "Downloading data from https://www.mediafire.com/file/qlp0n7z6h8xqlev/JH_data.gz/file\n",
            "41222144/41217435 [==============================] - 1s 0us/step\n",
            "41230336/41217435 [==============================] - 1s 0us/step\n"
          ]
        }
      ]
    },
    {
      "cell_type": "markdown",
      "metadata": {
        "id": "LJKPRYUVx3FN"
      },
      "source": [
        "\n",
        "---------- █ ***Seperating Data into sets.*** █ ----------\n",
        "\n",
        "This section simply catagorizes the folders for the program so it can identify what each folder's intended purpose is.\n",
        "\n",
        "```\n",
        "- Configurable Elements -\n",
        "\n",
        "# [batch_size] - Sizes of Batches (Samples are split into batches)\n",
        "\n",
        "# [seed] - A value that used for shuffling and transformation\n",
        "```"
      ]
    },
    {
      "cell_type": "code",
      "metadata": {
        "colab": {
          "base_uri": "https://localhost:8080/",
          "height": 426
        },
        "id": "Mot_U8JGp1QP",
        "outputId": "813a4d40-b7ca-4586-c7d1-36f8bacbccb3"
      },
      "source": [
        "batch_size = 32\n",
        "seed = 42\n",
        "\n",
        "# ---- # ---- #\n",
        "\n",
        "rtraining_set = tf.keras.utils.text_dataset_from_directory(\n",
        "    'JH_data/project_data/training_data', \n",
        "    batch_size=batch_size, \n",
        "    validation_split=0.2, \n",
        "    subset='training', \n",
        "    seed=seed)\n",
        "\n",
        "rvaildation_set = tf.keras.utils.text_dataset_from_directory(\n",
        "    'JH_data/project_data/training_data', \n",
        "    batch_size=batch_size, \n",
        "    validation_split=0.2, \n",
        "    subset='validation', \n",
        "    seed=seed)\n",
        "\n",
        "#rtest_set = tf.keras.utils.text_dataset_from_directory(\n",
        "#    'JH_data/project_data/test_data', \n",
        "#    batch_size=batch_size)\n"
      ],
      "execution_count": null,
      "outputs": [
        {
          "output_type": "stream",
          "name": "stdout",
          "text": [
            "Found 516 files belonging to 2 classes.\n",
            "Using 413 files for training.\n",
            "Found 516 files belonging to 2 classes.\n",
            "Using 103 files for validation.\n",
            "Found 0 files belonging to 0 classes.\n"
          ]
        },
        {
          "output_type": "error",
          "ename": "ValueError",
          "evalue": "ignored",
          "traceback": [
            "\u001b[0;31m---------------------------------------------------------------------------\u001b[0m",
            "\u001b[0;31mValueError\u001b[0m                                Traceback (most recent call last)",
            "\u001b[0;32m<ipython-input-4-582571bc536e>\u001b[0m in \u001b[0;36m<module>\u001b[0;34m()\u001b[0m\n\u001b[1;32m     20\u001b[0m rtest_set = tf.keras.utils.text_dataset_from_directory(\n\u001b[1;32m     21\u001b[0m     \u001b[0;34m'JH_data/project_data/test_data'\u001b[0m\u001b[0;34m,\u001b[0m\u001b[0;34m\u001b[0m\u001b[0;34m\u001b[0m\u001b[0m\n\u001b[0;32m---> 22\u001b[0;31m     batch_size=batch_size)\n\u001b[0m",
            "\u001b[0;32m/usr/local/lib/python3.7/dist-packages/keras/preprocessing/text_dataset.py\u001b[0m in \u001b[0;36mtext_dataset_from_directory\u001b[0;34m(directory, labels, label_mode, class_names, batch_size, max_length, shuffle, seed, validation_split, subset, follow_links)\u001b[0m\n\u001b[1;32m    157\u001b[0m       file_paths, labels, validation_split, subset)\n\u001b[1;32m    158\u001b[0m   \u001b[0;32mif\u001b[0m \u001b[0;32mnot\u001b[0m \u001b[0mfile_paths\u001b[0m\u001b[0;34m:\u001b[0m\u001b[0;34m\u001b[0m\u001b[0;34m\u001b[0m\u001b[0m\n\u001b[0;32m--> 159\u001b[0;31m     raise ValueError(f'No text files found in directory {directory}. '\n\u001b[0m\u001b[1;32m    160\u001b[0m                      f'Allowed format: .txt')\n\u001b[1;32m    161\u001b[0m \u001b[0;34m\u001b[0m\u001b[0m\n",
            "\u001b[0;31mValueError\u001b[0m: No text files found in directory JH_data/project_data/test_data. Allowed format: .txt"
          ]
        }
      ]
    },
    {
      "cell_type": "markdown",
      "metadata": {
        "id": "5POEbIVWzlXh"
      },
      "source": [
        "\n",
        "---------- █ ***Processing the data.*** █ ----------\n",
        "\n",
        "This section simply standardizes and formats the data appropirately for use by the program.\n",
        "\n",
        "```\n",
        "- Configurable Elements -\n",
        "\n",
        "# [max_features] - The hard limit of the size of each sample\n",
        "\n",
        "# [sequence_length] - The minimum length that a sample will be padded with addtional data \n",
        "```"
      ]
    },
    {
      "cell_type": "code",
      "metadata": {
        "id": "sCIuE-dJzkiT"
      },
      "source": [
        "max_features = 10000 \n",
        "sequence_length = 250\n",
        "\n",
        "# ---- # ---- #\n",
        "\n",
        "vectorize_layer = layers.TextVectorization(\n",
        "    max_tokens=max_features,\n",
        "    output_mode='int',\n",
        "    output_sequence_length=sequence_length)\n",
        "\n",
        "\n",
        "train_text = rtraining_set.map(lambda x, y: x)\n",
        "vectorize_layer.adapt(train_text) \n",
        "\n",
        "def vectorize_text(text, label):\n",
        "  text = tf.expand_dims(text, -1) \n",
        "  return vectorize_layer(text), label\n",
        "\n",
        "train_ds = rtraining_set.map(vectorize_text)\n",
        "val_ds = rtraining_set.map(vectorize_text)\n",
        "#test_ds = rtest_set.map(vectorize_text)\n",
        "\n",
        "AUTOTUNE = tf.data.AUTOTUNE\n",
        "\n",
        "train_ds = train_ds.cache().prefetch(buffer_size=AUTOTUNE)\n",
        "val_ds = val_ds.cache().prefetch(buffer_size=AUTOTUNE)\n",
        "#test_ds = test_ds.cache().prefetch(buffer_size=AUTOTUNE)\n"
      ],
      "execution_count": null,
      "outputs": []
    },
    {
      "cell_type": "markdown",
      "metadata": {
        "id": "BP0qRySFF8Vy"
      },
      "source": [
        "\n",
        "---------- █ ***Model Creation.*** █ ----------\n",
        "\n",
        "This section creates the model for use by the program.\n",
        "\n",
        "```\n",
        "- Configurable Elements -\n",
        "\n",
        "# [embedding_dim] - The number of \"nodes\" within the neutral network\n",
        " \n",
        "```"
      ]
    },
    {
      "cell_type": "code",
      "metadata": {
        "id": "Ovg0P_6uDv_E",
        "colab": {
          "base_uri": "https://localhost:8080/"
        },
        "outputId": "6604335a-768a-49a1-d253-41c2bc6029b1"
      },
      "source": [
        "embedding_dim = 16\n",
        "\n",
        "# ---- # ---- #\n",
        "\n",
        "model = tf.keras.Sequential([\n",
        "  layers.Embedding(max_features + 1, embedding_dim),\n",
        "  layers.Dropout(0.2),\n",
        "  layers.GlobalAveragePooling1D(),\n",
        "  layers.Dropout(0.2),\n",
        "  layers.Dense(1)])\n",
        "\n",
        "model.compile(loss=losses.BinaryCrossentropy(from_logits=True),\n",
        "              optimizer='adam',\n",
        "              metrics=tf.metrics.BinaryAccuracy(threshold=0.0))\n",
        "\n",
        "model.summary()"
      ],
      "execution_count": null,
      "outputs": [
        {
          "output_type": "stream",
          "name": "stdout",
          "text": [
            "Model: \"sequential\"\n",
            "_________________________________________________________________\n",
            " Layer (type)                Output Shape              Param #   \n",
            "=================================================================\n",
            " embedding (Embedding)       (None, None, 16)          160016    \n",
            "                                                                 \n",
            " dropout (Dropout)           (None, None, 16)          0         \n",
            "                                                                 \n",
            " global_average_pooling1d (G  (None, 16)               0         \n",
            " lobalAveragePooling1D)                                          \n",
            "                                                                 \n",
            " dropout_1 (Dropout)         (None, 16)                0         \n",
            "                                                                 \n",
            " dense (Dense)               (None, 1)                 17        \n",
            "                                                                 \n",
            "=================================================================\n",
            "Total params: 160,033\n",
            "Trainable params: 160,033\n",
            "Non-trainable params: 0\n",
            "_________________________________________________________________\n"
          ]
        }
      ]
    },
    {
      "cell_type": "markdown",
      "source": [
        "\n",
        "---------- █ ***Model Training.*** █ ----------\n",
        "\n",
        "This section uses the training data to bulid the model and iterate upon it.\n",
        "\n",
        "```\n",
        "- Configurable Elements -\n",
        "\n",
        "# [epochs] - The number of rounds that the MI will iterate through the sample data\n",
        " \n",
        "```"
      ],
      "metadata": {
        "id": "V8p3N9hhDmtL"
      }
    },
    {
      "cell_type": "code",
      "metadata": {
        "id": "WouBfIJuGDPC",
        "colab": {
          "base_uri": "https://localhost:8080/"
        },
        "outputId": "0b265e81-ea51-4581-f63f-443d0ca33070"
      },
      "source": [
        "epochs = 1\n",
        "\n",
        "# ---- # ---- #\n",
        "\n",
        "history = model.fit(\n",
        "    train_ds,\n",
        "    validation_data=val_ds,\n",
        "    epochs=epochs)"
      ],
      "execution_count": null,
      "outputs": [
        {
          "output_type": "stream",
          "name": "stdout",
          "text": [
            "13/13 [==============================] - 14s 810ms/step - loss: 0.6933 - binary_accuracy: 0.4867 - val_loss: 0.6931 - val_binary_accuracy: 0.5085\n"
          ]
        }
      ]
    },
    {
      "cell_type": "code",
      "source": [],
      "metadata": {
        "id": "3oWUoJVbRwPc"
      },
      "execution_count": null,
      "outputs": []
    },
    {
      "cell_type": "markdown",
      "source": [
        "\n",
        "---------- █ ***Model Evaluation*** █ ----------\n",
        "\n",
        "This section uses the test data to check the accuracy of the model.\n",
        "\n"
      ],
      "metadata": {
        "id": "7jcTuKAZDx3h"
      }
    },
    {
      "cell_type": "code",
      "metadata": {
        "id": "1sejcwa1GIJC"
      },
      "source": [
        "#loss, accuracy = model.evaluate(test_ds)\n",
        "\n",
        "#print(\"Loss: \", loss)\n",
        "#print(\"Accuracy: \", accuracy)"
      ],
      "execution_count": null,
      "outputs": []
    },
    {
      "cell_type": "markdown",
      "source": [
        "---------- █ ***Model Predictions*** █ ----------\n",
        "\n",
        "This section highlights any file within \"PFolder\" as possibly containing steganographic measures.  \n",
        "\n",
        "```\n",
        "- Configurable Elements -\n",
        "\n",
        "# [threshold] - Editing this value will alter the level of suspicion it which the model will flag a vaild prediction on any files. \n",
        "  - The value assigned must be float value.\n",
        "  - It cannot exceed 1, nor can be below 0\n",
        "  - High values indicate, a greater confidence that the model thinks a file has steganographic measures. \n",
        " \n",
        "```"
      ],
      "metadata": {
        "id": "5qw741NdInHE"
      }
    },
    {
      "cell_type": "code",
      "metadata": {
        "id": "LsM5DDVeJ9GF",
        "colab": {
          "base_uri": "https://localhost:8080/"
        },
        "outputId": "20373150-748d-4214-cb3f-c49bf04e9c5a"
      },
      "source": [
        "threshold = 0.70\n",
        "\n",
        "# ---- # ---- #\n",
        "\n",
        "export_model = tf.keras.Sequential([\n",
        "  vectorize_layer,\n",
        "  model,\n",
        "  layers.Activation('sigmoid')\n",
        "])\n",
        "\n",
        "export_model.compile(\n",
        "    loss=losses.BinaryCrossentropy(from_logits=False), optimizer=\"adam\", metrics=['accuracy']\n",
        ")\n",
        "\n",
        "if not os.path.exists('PFolder'):\n",
        "  os.makedirs('PFolder')\n",
        "\n",
        "path = \"/content/PFolder\"\n",
        "files = os.listdir(path)\n",
        "iii = 0\n",
        "\n",
        "for index, file in enumerate(files):\n",
        "  try:\n",
        "    input = os.path.join(path, str(files[index]))\n",
        "    with open (input, \"r\") as myfile:\n",
        "      modelpredict = myfile.readlines()\n",
        "\n",
        "    predictval = export_model.predict(modelpredict)\n",
        "    predictval = predictval\n",
        "    \n",
        "\n",
        "    if predictval > threshold:\n",
        "      iii+=1\n",
        "      print(predictval)\n",
        "      print(\"Prediction for: \" + str(files[index]))\n",
        "\n",
        "  except IndexError:\n",
        "    continue\n",
        "  except IsADirectoryError:\n",
        "    continue\n",
        "\n",
        "if iii <= 0:\n",
        "  print(\"No Files Detected: Consider lowering Threshold\")\n",
        "   "
      ],
      "execution_count": null,
      "outputs": [
        {
          "output_type": "stream",
          "name": "stdout",
          "text": [
            "No Files Detected: Consider lowering Threshold\n"
          ]
        }
      ]
    },
    {
      "cell_type": "markdown",
      "source": [
        "\n",
        "---------- █ ***Reloading/Saving the Model .*** █ ----------\n",
        "\n",
        "The model can be saved as a \"checkpoint\". Users can then personally download the specified file. As Google's service doesn't save the data permanently. The file structure can then be re-uploaded to continue from a prior state. "
      ],
      "metadata": {
        "id": "kY7d8UHUtP0w"
      }
    },
    {
      "cell_type": "code",
      "source": [
        "model.save_weights('./checkpoints/my_checkpoint')"
      ],
      "metadata": {
        "id": "zy4drGtptNw9"
      },
      "execution_count": null,
      "outputs": []
    },
    {
      "cell_type": "code",
      "source": [
        "model.load_weights('./checkpoints/my_checkpoint')"
      ],
      "metadata": {
        "id": "ZGWVvF4otyan",
        "colab": {
          "base_uri": "https://localhost:8080/"
        },
        "outputId": "cec89dd6-a39e-4a41-fb88-94e6d855ce95"
      },
      "execution_count": null,
      "outputs": [
        {
          "output_type": "execute_result",
          "data": {
            "text/plain": [
              "<tensorflow.python.training.tracking.util.CheckpointLoadStatus at 0x7f21003abf90>"
            ]
          },
          "metadata": {},
          "execution_count": 12
        }
      ]
    }
  ]
}